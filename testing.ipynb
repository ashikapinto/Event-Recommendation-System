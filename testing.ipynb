{
 "cells": [
  {
   "cell_type": "code",
   "execution_count": 1,
   "metadata": {
    "collapsed": true
   },
   "outputs": [],
   "source": [
    "import _pickle\n",
    "fd=open('model.pkl','rb')\n",
    "clf=_pickle.load(fd)"
   ]
  },
  {
   "cell_type": "code",
   "execution_count": 6,
   "metadata": {},
   "outputs": [],
   "source": [
    "import pandas as pd\n",
    "import numpy as np\n",
    "def test(clf):\n",
    "    origTestDf = pd.read_csv(\"test.csv\")\n",
    "    users = origTestDf.user\n",
    "    events = origTestDf.event\n",
    "    testDf = pd.read_csv(\"newdata/test.csv\")\n",
    "    testDf.fillna(0,inplace=True)\n",
    "    fout = open(\"newdata/result.csv\", 'w')\n",
    "    fout.write(\",\".join([\"user\", \"event\", \"outcome\", \"dist\"]) + \"\\n\")\n",
    "    nrows = len(testDf)\n",
    "    Xp = np.matrix(testDf)\n",
    "    yp = np.zeros((nrows, 2))\n",
    "    for i in range(0, nrows):\n",
    "        xp = Xp[i, :]\n",
    "        yp[i, 0] = clf.predict(xp)\n",
    "        yp[i, 1] = clf.decision_function(xp)\n",
    "        fout.write(\",\".join(map(lambda x: str(x), [users[i], events[i], yp[i, 0], yp[i, 1]])) + \"\\n\")\n",
    "    fout.close()\n",
    "test(clf)"
   ]
  },
  {
   "cell_type": "code",
   "execution_count": 7,
   "metadata": {
    "collapsed": true
   },
   "outputs": [],
   "source": [
    "from __future__ import division\n",
    "\n",
    "import pandas as pd\n",
    "\n",
    "def byDist(x, y):\n",
    "    return int(y[1] - x[1])\n",
    "\n",
    "def main():\n",
    "    # output file\n",
    "    fout = open(\"newdata/finalrecommendation.csv\", 'w')\n",
    "    fout.write(\",\".join([\"User\", \"Events\"]) + \"\\n\")\n",
    "    resultDf = pd.read_csv(\"newdata/result.csv\")\n",
    "    # group remaining user/events\n",
    "    grouped = resultDf.groupby(\"user\")\n",
    "    for name, group in grouped:\n",
    "        user = str(name)\n",
    "        tuples = zip(list(group.event), list(group.dist), list(group.outcome))\n",
    "        #   tuples = filter(lambda x: x[2]==1, tuples)\n",
    "        tuples = sorted(tuples, key=lambda x: x[1],reverse=True)\n",
    "        events = \"\\\"\" + str(list(map(lambda x: x[0], tuples))) + \"\\\"\"\n",
    "        fout.write(\",\".join([user, events]) + \"\\n\")\n",
    "    fout.close()\n",
    "main()"
   ]
  },
  {
   "cell_type": "code",
   "execution_count": null,
   "metadata": {
    "collapsed": true
   },
   "outputs": [],
   "source": []
  }
 ],
 "metadata": {
  "kernelspec": {
   "display_name": "Python 3",
   "language": "python",
   "name": "python3"
  },
  "language_info": {
   "codemirror_mode": {
    "name": "ipython",
    "version": 3
   },
   "file_extension": ".py",
   "mimetype": "text/x-python",
   "name": "python",
   "nbconvert_exporter": "python",
   "pygments_lexer": "ipython3",
   "version": "3.6.3"
  }
 },
 "nbformat": 4,
 "nbformat_minor": 2
}
